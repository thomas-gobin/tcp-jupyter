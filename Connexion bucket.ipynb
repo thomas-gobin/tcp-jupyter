{
 "cells": [
  {
   "cell_type": "code",
   "execution_count": null,
   "id": "a2471bb3-4eeb-4ac2-8e43-2bfb7f1ec529",
   "metadata": {},
   "outputs": [],
   "source": [
    "!mkdir /data\n",
    "!gsutil rsync -r the-clean-project/notebooks/jupyter /data "
   ]
  }
 ],
 "metadata": {
  "kernelspec": {
   "display_name": "PySpark",
   "language": "python",
   "name": "pyspark"
  },
  "language_info": {
   "codemirror_mode": {
    "name": "ipython",
    "version": 3
   },
   "file_extension": ".py",
   "mimetype": "text/x-python",
   "name": "python",
   "nbconvert_exporter": "python",
   "pygments_lexer": "ipython3",
   "version": "3.8.13"
  }
 },
 "nbformat": 4,
 "nbformat_minor": 5
}
