{
 "cells": [
  {
   "cell_type": "code",
   "execution_count": 3,
   "id": "e033cea4-148a-4173-bb19-8037659b23ec",
   "metadata": {},
   "outputs": [],
   "source": [
    "import pickle"
   ]
  },
  {
   "cell_type": "code",
   "execution_count": 4,
   "id": "4623d1ce-3da1-4fc1-80bb-c6799eabce0d",
   "metadata": {},
   "outputs": [],
   "source": [
    "liste1 = [1,2,3,4,5]"
   ]
  },
  {
   "cell_type": "code",
   "execution_count": 15,
   "id": "6c89227c-a75d-477b-9694-904ec11e56d5",
   "metadata": {},
   "outputs": [],
   "source": [
    "class Person:\n",
    "    \"This is a person class\"\n",
    "    def __init__(self, age):\n",
    "        self.age = age\n",
    "\n",
    "    def greet(self):\n",
    "        print('Hello', self.age)"
   ]
  },
  {
   "cell_type": "code",
   "execution_count": 16,
   "id": "c276b0d2-1f19-42ac-90d4-9f47f104909e",
   "metadata": {},
   "outputs": [],
   "source": [
    "user = Person(12)"
   ]
  },
  {
   "cell_type": "code",
   "execution_count": 17,
   "id": "83596d97-aeb3-4d33-a650-1a3ae06ae3dc",
   "metadata": {},
   "outputs": [],
   "source": [
    "with open(\"save_model\",\"wb\") as file:\n",
    "    pickle.dump(user, file)"
   ]
  },
  {
   "cell_type": "code",
   "execution_count": 18,
   "id": "542cb0a1-986d-4394-9f76-52d6c9163561",
   "metadata": {},
   "outputs": [],
   "source": [
    "with open(\"save_model\",\"rb\") as file:\n",
    "    user2 = pickle.load(file)"
   ]
  },
  {
   "cell_type": "code",
   "execution_count": 19,
   "id": "a80de531-7d1e-4519-817e-9e4684ace9ad",
   "metadata": {},
   "outputs": [
    {
     "name": "stdout",
     "output_type": "stream",
     "text": [
      "Hello 12\n"
     ]
    }
   ],
   "source": [
    "user2.greet()"
   ]
  }
 ],
 "metadata": {
  "kernelspec": {
   "display_name": "PySpark",
   "language": "python",
   "name": "pyspark"
  },
  "language_info": {
   "codemirror_mode": {
    "name": "ipython",
    "version": 3
   },
   "file_extension": ".py",
   "mimetype": "text/x-python",
   "name": "python",
   "nbconvert_exporter": "python",
   "pygments_lexer": "ipython3",
   "version": "3.8.13"
  }
 },
 "nbformat": 4,
 "nbformat_minor": 5
}
