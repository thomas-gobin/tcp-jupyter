{
 "cells": [
  {
   "cell_type": "markdown",
   "id": "1c60b135-d0f5-4c66-9974-c330a318c11d",
   "metadata": {},
   "source": [
    "# Librairie pour réaliser des requêtes SQL dans BigQuery\n",
    "\n",
    "* __Description__: Librairie pour réaliser des requêtes SQL dans BigQuery\n",
    "* __Auteur__: Corentin TIMAL et Camille MATTHIEU\n",
    "* __Date de création__: 15/09/2022\n",
    "* __Date de mise à jour__: 15/09/2022"
   ]
  },
  {
   "cell_type": "markdown",
   "id": "99430dfd-63c8-41d2-966e-4c23518927c5",
   "metadata": {},
   "source": [
    "## Import des bibliothèques"
   ]
  },
  {
   "cell_type": "code",
   "execution_count": null,
   "id": "ae22fc37-3b93-455a-925a-0edb1b2bc737",
   "metadata": {},
   "outputs": [],
   "source": [
    "from google.cloud import bigquery"
   ]
  },
  {
   "cell_type": "markdown",
   "id": "a5a37ca9-4d39-4772-b094-6831bfe4ab37",
   "metadata": {},
   "source": [
    "## Création du client pour la connexion BigQuery"
   ]
  },
  {
   "cell_type": "code",
   "execution_count": null,
   "id": "99092ede-249a-4b7b-8469-523bdfa89c60",
   "metadata": {},
   "outputs": [],
   "source": [
    "client = bigquery.Client()"
   ]
  },
  {
   "cell_type": "markdown",
   "id": "13525267-3068-44d1-8e10-fbab01cc9388",
   "metadata": {},
   "source": [
    "## Fonction pour exécuter une requête SQL dans BigQuery"
   ]
  },
  {
   "cell_type": "code",
   "execution_count": null,
   "id": "145676af-eeff-440f-9d10-f9cbd9b9f816",
   "metadata": {},
   "outputs": [],
   "source": [
    "def requete_sql_bigquery(sql:str):\n",
    "    \"\"\"\n",
    "    Fonction qui permet d'exécuter une requête SQL dans BigQuery\n",
    "    \"\"\"\n",
    "    query_job = client.query(sql)\n",
    "    query_job.result()"
   ]
  },
  {
   "cell_type": "markdown",
   "id": "a20c4f1f-c3fd-48be-b16c-1a6457f4a786",
   "metadata": {},
   "source": [
    "## Récupération de données depuis BigQuery"
   ]
  },
  {
   "cell_type": "code",
   "execution_count": null,
   "id": "d058443f-e10c-4452-8e29-0882f428308c",
   "metadata": {},
   "outputs": [],
   "source": [
    "def recuperation_sql_bigquery(sql:str):\n",
    "    \"\"\"\n",
    "    Fonction qui permet de récupérer des données depuis BigQuery\n",
    "    \"\"\"\n",
    "    query_job = client.query(sql)\n",
    "    df = query_job.to_dataframe()\n",
    "    return df"
   ]
  },
  {
   "cell_type": "markdown",
   "id": "cde1e655-d991-4250-879d-f6eff751f9cc",
   "metadata": {},
   "source": [
    "## Ajout de données dans BigQuery"
   ]
  },
  {
   "cell_type": "code",
   "execution_count": null,
   "id": "7ed1cf31-242c-4b5d-a41d-6988b9eb4e4b",
   "metadata": {},
   "outputs": [],
   "source": [
    "def insertion_bigquery(dataset_id, table_id, data):\n",
    "    \"\"\"\n",
    "    Function to insert data into a bigquery table\n",
    "    \"\"\"\n",
    "    # Initialize bigquery info\n",
    "    table_ref = client.dataset(dataset_id).table(table_id)\n",
    "    table = client.get_table(table_ref)\n",
    "    # Insert values to dataframe into bigquery\n",
    "    nb_insertion = data.shape[0]//10000\n",
    "    for i in range(nb_insertion):\n",
    "        client.insert_rows(table, data.iloc[i*10000:(i+1)*10000,:].values.tolist())\n",
    "    \n",
    "    if data.shape[0]%10000 != 0:\n",
    "        client.insert_rows(table, data.iloc[nb_insertion*10000:,:].values.tolist())"
   ]
  }
 ],
 "metadata": {
  "kernelspec": {
   "display_name": "PySpark",
   "language": "python",
   "name": "pyspark"
  },
  "language_info": {
   "codemirror_mode": {
    "name": "ipython",
    "version": 3
   },
   "file_extension": ".py",
   "mimetype": "text/x-python",
   "name": "python",
   "nbconvert_exporter": "python",
   "pygments_lexer": "ipython3",
   "version": "3.8.13"
  }
 },
 "nbformat": 4,
 "nbformat_minor": 5
}
