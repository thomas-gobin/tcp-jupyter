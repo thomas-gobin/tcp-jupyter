{
 "cells": [
  {
   "cell_type": "markdown",
   "id": "df2860c7-9662-4f23-a6a0-511a9449dba3",
   "metadata": {},
   "source": [
    "# Notebook pour nettoyer les données BigQuery\n",
    "\n",
    "* __Description__: Notebook pour nettoyer les données des tables post et comment dans BigQuery\n",
    "* __Source__: Tables comment et post (BigQuery) \n",
    "* __Output__: Tables comment et post (BigQuery) \n",
    "* __Auteur__: Corentin TIMAL et Camille MATTHIEU\n",
    "* __Date de création__: 15/09/2022\n",
    "* __Date de mise à jour__: 15/09/2022"
   ]
  },
  {
   "cell_type": "markdown",
   "id": "20a0dbe7-ccea-49c6-8c05-f4ab3b8fb6c1",
   "metadata": {},
   "source": [
    "## Import des outils"
   ]
  },
  {
   "cell_type": "code",
   "execution_count": null,
   "id": "18e42da3-37ca-48dc-bf1d-aa3b63a3bb4c",
   "metadata": {},
   "outputs": [],
   "source": [
    "%run /notebook/Libs/requete_lib.ipynb"
   ]
  },
  {
   "cell_type": "markdown",
   "id": "4ab0c1e8-35d0-482b-b6cd-c33140e836e6",
   "metadata": {},
   "source": [
    "## Nettoyage\n",
    "\n",
    "Cette fonction permet de supprimer les doublons dans les tables post et comment suite au mise à jour des données"
   ]
  },
  {
   "cell_type": "code",
   "execution_count": 1,
   "id": "f054cf0a-74bd-4d55-ba6c-b2b054a825db",
   "metadata": {},
   "outputs": [],
   "source": [
    "def nettoyage_complet():\n",
    "    \"\"\"\n",
    "    Permet d'exécuter différentes requêtes SQL dans BigQuery pour supprimer les doublons présents dans les tables post et comment\n",
    "    \"\"\"\n",
    "    \n",
    "    ## POST\n",
    "    \n",
    "    # Eliminer les doublons de post, en ne gardant que celui avec extraction_utc le plus élevé\n",
    "    sql = \"\"\"CREATE OR REPLACE TABLE `mimetic-coral-355913.dwh.post` AS\n",
    "    (\n",
    "    WITH post_unique AS (\n",
    "      SELECT * FROM `mimetic-coral-355913.dwh.post` AS post\n",
    "      LEFT OUTER JOIN (\n",
    "        SELECT t.id_post AS id_post2, MAX(t.extraction_utc) AS extraction_latest FROM `mimetic-coral-355913.dwh.post` AS t\n",
    "        GROUP BY t.id_post\n",
    "      ) ON post.id_post = id_post2\n",
    "    )\n",
    "    SELECT id_post, id_subreddit, subreddit, id_author, author, num_comments, subreddit_subscribers, upvote_ratio, ups, downs, score, created_utc, extraction_utc, kind, score_jigsaw FROM post_unique\n",
    "    WHERE extraction_utc = extraction_latest\n",
    "    )\n",
    "    ;\"\"\"\n",
    "    requete_sql_bigquery(sql)\n",
    "    \n",
    "    ## COMMENT\n",
    "    \n",
    "    # Eliminer les lignes avec type_content = null\n",
    "    sql = \"\"\"DELETE FROM `mimetic-coral-355913.dwh.comment`\n",
    "    WHERE type_content IS NULL;\"\"\"\n",
    "    requete_sql_bigquery(sql)\n",
    "\n",
    "    # Eliminer les commentaires dont le contenu est \"[effacé]\"\n",
    "    sql = f\"\"\"DELETE FROM `mimetic-coral-355913.dwh.comment`\n",
    "    WHERE content IS NULL;\"\"\"\n",
    "    requete_sql_bigquery(sql)\n",
    "    \n",
    "#     # Eliminer les commentaires dont le contenu est \"[supprimé]\"\n",
    "#     sql = f\"\"\"DELETE FROM `mimetic-coral-355913.dwh.comment`\n",
    "#     WHERE content = 'deleted';\"\"\"\n",
    "#     requete_sql_bigquery(sql)\n",
    "\n",
    "    # Eliminer les doublons en ne gardant que les plus récents (soit l'extraction_utc le plus élevé)\n",
    "    sql = \"\"\"CREATE OR REPLACE TABLE `mimetic-coral-355913.dwh.comment` AS\n",
    "    (\n",
    "    WITH comment_unique AS (\n",
    "      SELECT * FROM `mimetic-coral-355913.dwh.comment` AS comment\n",
    "      LEFT OUTER JOIN (\n",
    "        SELECT t.id_comment AS id_comment2, t.type_content AS type_content2, MAX(t.extraction_utc) AS extraction_latest FROM `mimetic-coral-355913.dwh.comment` AS t\n",
    "        GROUP BY t.id_comment, t.type_content\n",
    "      ) ON (comment.id_comment = id_comment2 AND comment.type_content = type_content2)\n",
    "    )\n",
    "    SELECT id_comment, id_post, id_author, author, content, type_content, ups, downs, score, created_utc, extraction_utc, score_jigsaw FROM comment_unique\n",
    "    WHERE extraction_utc = extraction_latest\n",
    "    )\n",
    "    ;\"\"\"\n",
    "    requete_sql_bigquery(sql)\n",
    "\n",
    "    # Eliminer les doublons restants (i.e. les commentaires avec les mêmes dates d'extraction)\n",
    "    sql = \"\"\"CREATE OR REPLACE TABLE `mimetic-coral-355913.dwh.comment` AS\n",
    "    (\n",
    "    SELECT DISTINCT * FROM `mimetic-coral-355913.dwh.comment`\n",
    "    )\n",
    "    ;\n",
    "\n",
    "    CREATE OR REPLACE TABLE `mimetic-coral-355913.dwh.comment` AS\n",
    "    (\n",
    "    WITH comment_unique_2 AS (\n",
    "      SELECT * FROM `mimetic-coral-355913.dwh.comment` AS comment\n",
    "      LEFT OUTER JOIN (\n",
    "        SELECT t.id_comment AS id_comment2, t.type_content AS type_content2, MAX(t.score) AS score_max FROM `mimetic-coral-355913.dwh.comment` AS t\n",
    "        GROUP BY t.id_comment, t.type_content\n",
    "      ) ON (comment.id_comment = id_comment2 AND comment.type_content = type_content2)\n",
    "    )\n",
    "    SELECT id_comment, id_post, id_author, author, content, type_content, ups, downs, score, created_utc, extraction_utc, score_jigsaw FROM comment_unique_2\n",
    "    WHERE score = score_max\n",
    "    )\n",
    "    ;\"\"\"\n",
    "    requete_sql_bigquery(sql)\n"
   ]
  }
 ],
 "metadata": {
  "kernelspec": {
   "display_name": "PySpark",
   "language": "python",
   "name": "pyspark"
  },
  "language_info": {
   "codemirror_mode": {
    "name": "ipython",
    "version": 3
   },
   "file_extension": ".py",
   "mimetype": "text/x-python",
   "name": "python",
   "nbconvert_exporter": "python",
   "pygments_lexer": "ipython3",
   "version": "3.8.13"
  }
 },
 "nbformat": 4,
 "nbformat_minor": 5
}
