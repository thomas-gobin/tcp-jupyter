{
 "cells": [
  {
   "cell_type": "markdown",
   "id": "598325a4-a18f-4b31-964a-592b88641ab3",
   "metadata": {},
   "source": [
    "# Appel de l'extraction des données Reddit"
   ]
  },
  {
   "cell_type": "code",
   "execution_count": null,
   "id": "99c6c3d9-72b1-41c5-9695-c16033d6d125",
   "metadata": {},
   "outputs": [],
   "source": [
    "listeChildren = []"
   ]
  },
  {
   "cell_type": "code",
   "execution_count": null,
   "id": "89b54844-6acf-47ed-9dd4-3b23444d9bc9",
   "metadata": {},
   "outputs": [],
   "source": [
    "%run extraction_complete.ipynb"
   ]
  }
 ],
 "metadata": {
  "kernelspec": {
   "display_name": "PySpark",
   "language": "python",
   "name": "pyspark"
  },
  "language_info": {
   "codemirror_mode": {
    "name": "ipython",
    "version": 3
   },
   "file_extension": ".py",
   "mimetype": "text/x-python",
   "name": "python",
   "nbconvert_exporter": "python",
   "pygments_lexer": "ipython3",
   "version": "3.8.13"
  }
 },
 "nbformat": 4,
 "nbformat_minor": 5
}