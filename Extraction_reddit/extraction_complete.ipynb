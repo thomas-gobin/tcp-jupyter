{
 "cells": [
  {
   "cell_type": "markdown",
   "id": "3890aa30-f783-4645-a45c-3dde80631183",
   "metadata": {},
   "source": [
    "# Notebook pour réaliser l'extraction des posts et commentaires\n",
    "\n",
    "* __Description__: Notebook pour l'extraction des commentaires et des posts de Reddit pour leur sauvegarde dans BigQuery\n",
    "* __Source__: API de REDDIT\n",
    "* __Output__: Tables comment et post (BigQuery) \n",
    "* __Auteur__: Corentin TIMAL et Camille MATTHIEU\n",
    "* __Date de création__: 03/08/2022\n",
    "* __Date de mise à jour__: 14/09/2022"
   ]
  },
  {
   "cell_type": "markdown",
   "id": "cb020aca-77f4-42b8-bca0-de7846f7e479",
   "metadata": {},
   "source": [
    "### Import des outils"
   ]
  },
  {
   "cell_type": "code",
   "execution_count": 1,
   "id": "539bc916-c3e9-4fd9-aa9e-ed5f41839083",
   "metadata": {},
   "outputs": [],
   "source": [
    "%run /notebook/Extraction_reddit/libs/extraction_lib.ipynb"
   ]
  },
  {
   "cell_type": "markdown",
   "id": "ba2cce6c-2d9b-4036-9e47-7282705953f2",
   "metadata": {},
   "source": [
    "## Extraction complète\n",
    "\n",
    "Cette fonction permet d'importer dan la liste des posts et des commentaires pour un subreddit donné"
   ]
  },
  {
   "cell_type": "code",
   "execution_count": null,
   "id": "2ef72348-6ba3-4f1c-a9d8-f58c905acc71",
   "metadata": {},
   "outputs": [],
   "source": [
    "def extraction_complete(subreddit:str):\n",
    "    \"\"\"\n",
    "        Fonction qui, quand on lui fournit le subreddit, va récupérer de façon automatique :\n",
    "        - ses posts\n",
    "        - les commentaires associés à chacun des posts\n",
    "        Param:\n",
    "            subreddit: str, nom du subreddit au format \"nom_subreddit\"\n",
    "    \"\"\" \n",
    "    \n",
    "    posts_extraction(subreddit)\n",
    "    \n",
    "    # Recup BigQuery\n",
    "    date = date_extraction[:10]\n",
    "    heure = date_extraction[11:]\n",
    "    \n",
    "    sql = f\"SELECT id_post FROM `mimetic-coral-355913.dwh.post` WHERE extraction_utc = '{date}T{heure}'\"\n",
    "    \n",
    "    # BigQuerry to Pandas DataFrame\n",
    "    pandas_df = client.query(sql).to_dataframe()\n",
    "    # Pandas DF to Spark DataFrame\n",
    "    spark_df = spark.createDataFrame(pandas_df)\n",
    "    # Spark DF to Spark RDD\n",
    "    rdd = spark_df.rdd\n",
    "    # flatmap pour faire qlqch\n",
    "    rdd2 = rdd.map(lambda row : comments_extraction(f\"r/{subreddit}\", row[\"id_post\"]))\n",
    "    rdd3 = rdd2.reduce(lambda df1, df2: pd.concat([df1, df2]))\n",
    "    \n",
    "    insertionBigQuery('dwh', 'comment', rdd3)\n",
    "    "
   ]
  },
  {
   "cell_type": "code",
   "execution_count": null,
   "id": "a903c6f3-4c37-4c3b-ab85-8bac408d635e",
   "metadata": {},
   "outputs": [],
   "source": []
  }
 ],
 "metadata": {
  "kernelspec": {
   "display_name": "PySpark",
   "language": "python",
   "name": "pyspark"
  },
  "language_info": {
   "codemirror_mode": {
    "name": "ipython",
    "version": 3
   },
   "file_extension": ".py",
   "mimetype": "text/x-python",
   "name": "python",
   "nbconvert_exporter": "python",
   "pygments_lexer": "ipython3",
   "version": "3.8.13"
  }
 },
 "nbformat": 4,
 "nbformat_minor": 5
}
