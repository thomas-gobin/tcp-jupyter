{
 "cells": [
  {
   "cell_type": "markdown",
   "id": "4cd356aa-8b4c-4972-bbbd-f8a98e282820",
   "metadata": {},
   "source": [
    "# Notebook pour réaliser le modèle de ML\n",
    "* __Description__: Notebook pour créer et entraîner le modèle de ML\n",
    "* __Source__: Fichier csv (GCS)\n",
    "* __Output__: Modèle ML\n",
    "* __Auteur__: Thomas GOBIN et Camille MATTHIEU\n",
    "* __Date de création__: 16/09/2022\n",
    "* __Date de mise à jour__: 16/09/2022"
   ]
  },
  {
   "cell_type": "markdown",
   "id": "ddcce863-d8f6-422f-844b-eebc1f3b89f4",
   "metadata": {},
   "source": [
    "## Import des outils"
   ]
  },
  {
   "cell_type": "code",
   "execution_count": 19,
   "id": "326a58be-283a-4d85-9631-edb574c46769",
   "metadata": {},
   "outputs": [
    {
     "name": "stderr",
     "output_type": "stream",
     "text": [
      "[nltk_data] Downloading package stopwords to /root/nltk_data...\n",
      "[nltk_data]   Package stopwords is already up-to-date!\n",
      "[nltk_data] Downloading package wordnet to /root/nltk_data...\n",
      "[nltk_data]   Package wordnet is already up-to-date!\n",
      "[nltk_data] Downloading package omw-1.4 to /root/nltk_data...\n",
      "[nltk_data]   Package omw-1.4 is already up-to-date!\n"
     ]
    }
   ],
   "source": [
    "%run /notebook/Libs/scoring_lib.ipynb"
   ]
  },
  {
   "cell_type": "markdown",
   "id": "2146f66c-eb9c-46e1-b13f-1486c559f12f",
   "metadata": {},
   "source": [
    "## Déclaration des variables"
   ]
  },
  {
   "cell_type": "code",
   "execution_count": 22,
   "id": "f4991cb7-ee3e-4a44-9849-b6634fbba3e3",
   "metadata": {},
   "outputs": [],
   "source": [
    "path_train_data = \"gs://the-clean-project/train.csv\"\n",
    "path_validation_data = \"gs://the-clean-project/validation_data.csv\"\n",
    "path_model_global = \"/model_ml/model_global\"\n",
    "path_model_toxic = \"/model_ml/model_toxic\"\n",
    "path_model_severe_toxic = \"/model_ml/model_severe_toxic\"\n",
    "path_model_obscene = \"/model_ml/model_obscene\"\n",
    "path_model_threat = \"/model_ml/model_threat\"\n",
    "path_model_insult = \"/model_ml/model_insult\"\n",
    "path_model_identity_hate = \"/model_ml/model_identity_hate\"\n",
    "path_vec_global = \"/model_ml/vec_global\"\n",
    "path_vec_toxic = \"/model_ml/vec_toxic\"\n",
    "path_vec_severe_toxic = \"/model_ml/vec_severe_toxic\"\n",
    "path_vec_obscene = \"/model_ml/vec_obscene\"\n",
    "path_vec_threat = \"/model_ml/vec_threat\"\n",
    "path_vec_insult = \"/model_ml/vec_insult\"\n",
    "path_vec_identity_hate = \"/model_ml/vec_identity_hate\""
   ]
  },
  {
   "cell_type": "markdown",
   "id": "4e616dfc-463b-4075-9a14-a50d7fe93bb9",
   "metadata": {},
   "source": [
    "## Entraînement des modèles"
   ]
  },
  {
   "cell_type": "code",
   "execution_count": 21,
   "id": "53202443-e9bc-4d7d-8634-4a9fe0d99a7a",
   "metadata": {},
   "outputs": [],
   "source": [
    "def create_model():\n",
    "    \"\"\"\n",
    "    Fonction qui crée, entraine et sauvegarde les modèles\n",
    "    \"\"\"\n",
    "    # Modèle global\n",
    "    model_ML(\"global\", path_train_data, path_validation_data, path_model_global, path_vec_global)\n",
    "    # Modèle toxic\n",
    "    model_ML(\"toxic\", path_train_data, path_validation_data, path_model_toxic, path_vec_toxic)\n",
    "    # Modèle severe_toxic\n",
    "    model_ML(\"severe_toxic\", path_train_data, path_validation_data, path_model_severe_toxic, path_vec_severe_toxic)\n",
    "    # Modèle obscene\n",
    "    model_ML(\"obscene\", path_train_data, path_validation_data, path_model_obscene, path_vec_obscene)\n",
    "    # Modèle threat\n",
    "    model_ML(\"threat\", path_train_data, path_validation_data, path_model_threat, path_vec_threat)\n",
    "    # Modèle insult\n",
    "    model_ML(\"insult\", path_train_data, path_validation_data, path_model_insult, path_vec_insult)\n",
    "    # Modèle identity_hate\n",
    "    model_ML(\"identity_hate\", path_train_data, path_validation_data, path_model_identity_hate, path_vec_identity_hate)"
   ]
  },
  {
   "cell_type": "code",
   "execution_count": null,
   "id": "a68499d3-f04c-4453-b0e5-66c7a050d532",
   "metadata": {},
   "outputs": [],
   "source": []
  },
  {
   "cell_type": "code",
   "execution_count": null,
   "id": "9c95e25b-35ab-4366-b752-ee66b23c476c",
   "metadata": {},
   "outputs": [],
   "source": []
  }
 ],
 "metadata": {
  "kernelspec": {
   "display_name": "PySpark",
   "language": "python",
   "name": "pyspark"
  },
  "language_info": {
   "codemirror_mode": {
    "name": "ipython",
    "version": 3
   },
   "file_extension": ".py",
   "mimetype": "text/x-python",
   "name": "python",
   "nbconvert_exporter": "python",
   "pygments_lexer": "ipython3",
   "version": "3.8.13"
  }
 },
 "nbformat": 4,
 "nbformat_minor": 5
}
