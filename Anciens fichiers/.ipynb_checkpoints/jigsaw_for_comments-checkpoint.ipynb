{
 "cells": [
  {
   "cell_type": "markdown",
   "id": "d75fb3b6",
   "metadata": {},
   "source": [
    "# Notebook pour extraire les commentaires "
   ]
  },
  {
   "cell_type": "code",
   "execution_count": 1,
   "id": "063adfc2",
   "metadata": {},
   "outputs": [
    {
     "name": "stdout",
     "output_type": "stream",
     "text": [
      "Requirement already satisfied: mysql.connector in /opt/conda/miniconda3/lib/python3.8/site-packages (2.2.9)\n",
      "\u001b[33mWARNING: Running pip as the 'root' user can result in broken permissions and conflicting behaviour with the system package manager. It is recommended to use a virtual environment instead: https://pip.pypa.io/warnings/venv\u001b[0m\u001b[33m\n",
      "\u001b[0mNote: you may need to restart the kernel to use updated packages.\n"
     ]
    }
   ],
   "source": [
    "pip install mysql.connector"
   ]
  },
  {
   "cell_type": "code",
   "execution_count": 2,
   "id": "17a521da",
   "metadata": {},
   "outputs": [
    {
     "name": "stderr",
     "output_type": "stream",
     "text": [
      "/opt/conda/miniconda3/lib/python3.8/site-packages/scipy/__init__.py:138: UserWarning: A NumPy version >=1.16.5 and <1.23.0 is required for this version of SciPy (detected version 1.23.2)\n",
      "  warnings.warn(f\"A NumPy version >={np_minversion} and <{np_maxversion} is required for this version of \"\n"
     ]
    }
   ],
   "source": [
    "import pandas as pd\n",
    "import numpy as np\n",
    "import mysql.connector\n",
    "from sklearn.naive_bayes import MultinomialNB\n",
    "from sklearn.feature_extraction.text import TfidfVectorizer\n",
    "#python -m nltk.downloader"
   ]
  },
  {
   "cell_type": "markdown",
   "id": "d7e39a12",
   "metadata": {},
   "source": [
    "## Test création df à partir de la base MySQL"
   ]
  },
  {
   "cell_type": "code",
   "execution_count": 3,
   "id": "504debdc",
   "metadata": {},
   "outputs": [
    {
     "name": "stderr",
     "output_type": "stream",
     "text": [
      "/opt/conda/miniconda3/lib/python3.8/site-packages/mysql/connector/abstracts.py:130: SyntaxWarning: \"is\" with a literal. Did you mean \"==\"?\n",
      "  if group is 'connector_python':\n",
      "/opt/conda/miniconda3/lib/python3.8/site-packages/mysql/connector/abstracts.py:130: SyntaxWarning: \"is\" with a literal. Did you mean \"==\"?\n",
      "  if group is 'connector_python':\n"
     ]
    },
    {
     "ename": "InterfaceError",
     "evalue": "2003: Can't connect to MySQL server on '34.155.60.153:3306' (110 Connection timed out)",
     "output_type": "error",
     "traceback": [
      "\u001b[0;31m---------------------------------------------------------------------------\u001b[0m",
      "\u001b[0;31mTimeoutError\u001b[0m                              Traceback (most recent call last)",
      "File \u001b[0;32m/opt/conda/miniconda3/lib/python3.8/site-packages/mysql/connector/network.py:509\u001b[0m, in \u001b[0;36mMySQLTCPSocket.open_connection\u001b[0;34m(self)\u001b[0m\n\u001b[1;32m    508\u001b[0m     \u001b[38;5;28mself\u001b[39m\u001b[38;5;241m.\u001b[39msock\u001b[38;5;241m.\u001b[39msettimeout(\u001b[38;5;28mself\u001b[39m\u001b[38;5;241m.\u001b[39m_connection_timeout)\n\u001b[0;32m--> 509\u001b[0m     \u001b[38;5;28;43mself\u001b[39;49m\u001b[38;5;241;43m.\u001b[39;49m\u001b[43msock\u001b[49m\u001b[38;5;241;43m.\u001b[39;49m\u001b[43mconnect\u001b[49m\u001b[43m(\u001b[49m\u001b[43msockaddr\u001b[49m\u001b[43m)\u001b[49m\n\u001b[1;32m    510\u001b[0m \u001b[38;5;28;01mexcept\u001b[39;00m \u001b[38;5;167;01mIOError\u001b[39;00m \u001b[38;5;28;01mas\u001b[39;00m err:\n",
      "\u001b[0;31mTimeoutError\u001b[0m: [Errno 110] Connection timed out",
      "\nDuring handling of the above exception, another exception occurred:\n",
      "\u001b[0;31mInterfaceError\u001b[0m                            Traceback (most recent call last)",
      "Input \u001b[0;32mIn [3]\u001b[0m, in \u001b[0;36m<cell line: 2>\u001b[0;34m()\u001b[0m\n\u001b[1;32m      1\u001b[0m \u001b[38;5;66;03m# Connect to our database\u001b[39;00m\n\u001b[0;32m----> 2\u001b[0m cnx \u001b[38;5;241m=\u001b[39m \u001b[43mmysql\u001b[49m\u001b[38;5;241;43m.\u001b[39;49m\u001b[43mconnector\u001b[49m\u001b[38;5;241;43m.\u001b[39;49m\u001b[43mconnect\u001b[49m\u001b[43m(\u001b[49m\u001b[43muser\u001b[49m\u001b[38;5;241;43m=\u001b[39;49m\u001b[38;5;124;43m'\u001b[39;49m\u001b[38;5;124;43mroot\u001b[39;49m\u001b[38;5;124;43m'\u001b[39;49m\u001b[43m,\u001b[49m\u001b[43m \u001b[49m\u001b[43mpassword\u001b[49m\u001b[38;5;241;43m=\u001b[39;49m\u001b[38;5;124;43m'\u001b[39;49m\u001b[38;5;124;43mtcp\u001b[39;49m\u001b[38;5;124;43m'\u001b[39;49m\u001b[43m,\u001b[49m\u001b[43mhost\u001b[49m\u001b[38;5;241;43m=\u001b[39;49m\u001b[38;5;124;43m'\u001b[39;49m\u001b[38;5;124;43m34.155.60.153\u001b[39;49m\u001b[38;5;124;43m'\u001b[39;49m\u001b[43m,\u001b[49m\u001b[43mdatabase\u001b[49m\u001b[38;5;241;43m=\u001b[39;49m\u001b[38;5;124;43m'\u001b[39;49m\u001b[38;5;124;43mdwh\u001b[39;49m\u001b[38;5;124;43m'\u001b[39;49m\u001b[43m)\u001b[49m\n\u001b[1;32m      4\u001b[0m query \u001b[38;5;241m=\u001b[39m \u001b[38;5;124m\"\u001b[39m\u001b[38;5;124mSELECT id_comment FROM comment LIMIT 50;\u001b[39m\u001b[38;5;124m\"\u001b[39m\n\u001b[1;32m      5\u001b[0m df \u001b[38;5;241m=\u001b[39m pd\u001b[38;5;241m.\u001b[39mread_sql(query, cnx)\n",
      "File \u001b[0;32m/opt/conda/miniconda3/lib/python3.8/site-packages/mysql/connector/__init__.py:179\u001b[0m, in \u001b[0;36mconnect\u001b[0;34m(*args, **kwargs)\u001b[0m\n\u001b[1;32m    177\u001b[0m     \u001b[38;5;28;01mreturn\u001b[39;00m CMySQLConnection(\u001b[38;5;241m*\u001b[39margs, \u001b[38;5;241m*\u001b[39m\u001b[38;5;241m*\u001b[39mkwargs)\n\u001b[1;32m    178\u001b[0m \u001b[38;5;28;01melse\u001b[39;00m:\n\u001b[0;32m--> 179\u001b[0m     \u001b[38;5;28;01mreturn\u001b[39;00m \u001b[43mMySQLConnection\u001b[49m\u001b[43m(\u001b[49m\u001b[38;5;241;43m*\u001b[39;49m\u001b[43margs\u001b[49m\u001b[43m,\u001b[49m\u001b[43m \u001b[49m\u001b[38;5;241;43m*\u001b[39;49m\u001b[38;5;241;43m*\u001b[39;49m\u001b[43mkwargs\u001b[49m\u001b[43m)\u001b[49m\n",
      "File \u001b[0;32m/opt/conda/miniconda3/lib/python3.8/site-packages/mysql/connector/connection.py:95\u001b[0m, in \u001b[0;36mMySQLConnection.__init__\u001b[0;34m(self, *args, **kwargs)\u001b[0m\n\u001b[1;32m     92\u001b[0m \u001b[38;5;28mself\u001b[39m\u001b[38;5;241m.\u001b[39m_pool_config_version \u001b[38;5;241m=\u001b[39m \u001b[38;5;28;01mNone\u001b[39;00m\n\u001b[1;32m     94\u001b[0m \u001b[38;5;28;01mif\u001b[39;00m \u001b[38;5;28mlen\u001b[39m(kwargs) \u001b[38;5;241m>\u001b[39m \u001b[38;5;241m0\u001b[39m:\n\u001b[0;32m---> 95\u001b[0m     \u001b[38;5;28;43mself\u001b[39;49m\u001b[38;5;241;43m.\u001b[39;49m\u001b[43mconnect\u001b[49m\u001b[43m(\u001b[49m\u001b[38;5;241;43m*\u001b[39;49m\u001b[38;5;241;43m*\u001b[39;49m\u001b[43mkwargs\u001b[49m\u001b[43m)\u001b[49m\n",
      "File \u001b[0;32m/opt/conda/miniconda3/lib/python3.8/site-packages/mysql/connector/abstracts.py:716\u001b[0m, in \u001b[0;36mMySQLConnectionAbstract.connect\u001b[0;34m(self, **kwargs)\u001b[0m\n\u001b[1;32m    713\u001b[0m     \u001b[38;5;28mself\u001b[39m\u001b[38;5;241m.\u001b[39mconfig(\u001b[38;5;241m*\u001b[39m\u001b[38;5;241m*\u001b[39mkwargs)\n\u001b[1;32m    715\u001b[0m \u001b[38;5;28mself\u001b[39m\u001b[38;5;241m.\u001b[39mdisconnect()\n\u001b[0;32m--> 716\u001b[0m \u001b[38;5;28;43mself\u001b[39;49m\u001b[38;5;241;43m.\u001b[39;49m\u001b[43m_open_connection\u001b[49m\u001b[43m(\u001b[49m\u001b[43m)\u001b[49m\n\u001b[1;32m    717\u001b[0m \u001b[38;5;28mself\u001b[39m\u001b[38;5;241m.\u001b[39m_post_connection()\n",
      "File \u001b[0;32m/opt/conda/miniconda3/lib/python3.8/site-packages/mysql/connector/connection.py:206\u001b[0m, in \u001b[0;36mMySQLConnection._open_connection\u001b[0;34m(self)\u001b[0m\n\u001b[1;32m    204\u001b[0m \u001b[38;5;28mself\u001b[39m\u001b[38;5;241m.\u001b[39m_protocol \u001b[38;5;241m=\u001b[39m MySQLProtocol()\n\u001b[1;32m    205\u001b[0m \u001b[38;5;28mself\u001b[39m\u001b[38;5;241m.\u001b[39m_socket \u001b[38;5;241m=\u001b[39m \u001b[38;5;28mself\u001b[39m\u001b[38;5;241m.\u001b[39m_get_connection()\n\u001b[0;32m--> 206\u001b[0m \u001b[38;5;28;43mself\u001b[39;49m\u001b[38;5;241;43m.\u001b[39;49m\u001b[43m_socket\u001b[49m\u001b[38;5;241;43m.\u001b[39;49m\u001b[43mopen_connection\u001b[49m\u001b[43m(\u001b[49m\u001b[43m)\u001b[49m\n\u001b[1;32m    207\u001b[0m \u001b[38;5;28mself\u001b[39m\u001b[38;5;241m.\u001b[39m_do_handshake()\n\u001b[1;32m    208\u001b[0m \u001b[38;5;28mself\u001b[39m\u001b[38;5;241m.\u001b[39m_do_auth(\u001b[38;5;28mself\u001b[39m\u001b[38;5;241m.\u001b[39m_user, \u001b[38;5;28mself\u001b[39m\u001b[38;5;241m.\u001b[39m_password,\n\u001b[1;32m    209\u001b[0m               \u001b[38;5;28mself\u001b[39m\u001b[38;5;241m.\u001b[39m_database, \u001b[38;5;28mself\u001b[39m\u001b[38;5;241m.\u001b[39m_client_flags, \u001b[38;5;28mself\u001b[39m\u001b[38;5;241m.\u001b[39m_charset_id,\n\u001b[1;32m    210\u001b[0m               \u001b[38;5;28mself\u001b[39m\u001b[38;5;241m.\u001b[39m_ssl)\n",
      "File \u001b[0;32m/opt/conda/miniconda3/lib/python3.8/site-packages/mysql/connector/network.py:511\u001b[0m, in \u001b[0;36mMySQLTCPSocket.open_connection\u001b[0;34m(self)\u001b[0m\n\u001b[1;32m    509\u001b[0m     \u001b[38;5;28mself\u001b[39m\u001b[38;5;241m.\u001b[39msock\u001b[38;5;241m.\u001b[39mconnect(sockaddr)\n\u001b[1;32m    510\u001b[0m \u001b[38;5;28;01mexcept\u001b[39;00m \u001b[38;5;167;01mIOError\u001b[39;00m \u001b[38;5;28;01mas\u001b[39;00m err:\n\u001b[0;32m--> 511\u001b[0m     \u001b[38;5;28;01mraise\u001b[39;00m errors\u001b[38;5;241m.\u001b[39mInterfaceError(\n\u001b[1;32m    512\u001b[0m         errno\u001b[38;5;241m=\u001b[39m\u001b[38;5;241m2003\u001b[39m, values\u001b[38;5;241m=\u001b[39m(\u001b[38;5;28mself\u001b[39m\u001b[38;5;241m.\u001b[39mget_address(), _strioerror(err)))\n\u001b[1;32m    513\u001b[0m \u001b[38;5;28;01mexcept\u001b[39;00m \u001b[38;5;167;01mException\u001b[39;00m \u001b[38;5;28;01mas\u001b[39;00m err:\n\u001b[1;32m    514\u001b[0m     \u001b[38;5;28;01mraise\u001b[39;00m errors\u001b[38;5;241m.\u001b[39mOperationalError(\u001b[38;5;28mstr\u001b[39m(err))\n",
      "\u001b[0;31mInterfaceError\u001b[0m: 2003: Can't connect to MySQL server on '34.155.60.153:3306' (110 Connection timed out)"
     ]
    }
   ],
   "source": [
    "# Connect to our database\n",
    "cnx = mysql.connector.connect(user='root', password='tcp',host='34.155.60.153',database='dwh')\n",
    "\n",
    "query = \"SELECT id_comment FROM comment LIMIT 50;\"\n",
    "df = pd.read_sql(query, cnx)\n",
    "\n",
    "df"
   ]
  },
  {
   "cell_type": "code",
   "execution_count": null,
   "id": "c814d976",
   "metadata": {},
   "outputs": [],
   "source": []
  },
  {
   "cell_type": "code",
   "execution_count": null,
   "id": "92760110",
   "metadata": {},
   "outputs": [],
   "source": []
  },
  {
   "cell_type": "markdown",
   "id": "bf1c1ff8",
   "metadata": {},
   "source": [
    "## Create train data"
   ]
  },
  {
   "cell_type": "code",
   "execution_count": null,
   "id": "99207785",
   "metadata": {},
   "outputs": [],
   "source": [
    "df = pd.read_csv(\"gs://the-clean-project/train.csv\")\n",
    "df.head(20)\n",
    "\n",
    "#print(df)\n"
   ]
  },
  {
   "cell_type": "code",
   "execution_count": null,
   "id": "9129078f",
   "metadata": {},
   "outputs": [],
   "source": [
    "df['y'] = (df[['toxic', 'severe_toxic', 'obscene', 'threat', 'insult', 'identity_hate']].sum(axis=1) > 0 ).astype(int)\n",
    "df = df[['comment_text', 'y']].rename(columns={'comment_text': 'text'})\n",
    "df.sample(5)\n",
    "#print(df)"
   ]
  },
  {
   "cell_type": "markdown",
   "id": "35c07ffb",
   "metadata": {},
   "source": [
    "## Undersample and clean"
   ]
  },
  {
   "cell_type": "code",
   "execution_count": null,
   "id": "8df09595",
   "metadata": {},
   "outputs": [],
   "source": [
    "#pip install -U nltk"
   ]
  },
  {
   "cell_type": "code",
   "execution_count": null,
   "id": "7af3dc1f",
   "metadata": {},
   "outputs": [],
   "source": [
    "df['y'].value_counts(normalize=True)\n",
    "min_len = (df['y'] == 1).sum()\n",
    "df_y0_undersample = df[df['y'] == 0].sample(n=min_len, random_state=201)\n",
    "df = pd.concat([df[df['y'] == 1], df_y0_undersample])\n",
    "df['y'].value_counts()\n",
    "\n",
    "from nltk.stem import SnowballStemmer, WordNetLemmatizer\n",
    "import re\n",
    "from nltk.corpus import stopwords\n",
    "import nltk\n",
    "nltk.download('stopwords')\n",
    "nltk.download('wordnet')\n",
    "nltk.download('omw-1.4')\n",
    "\n",
    "stemmer = SnowballStemmer('english')\n",
    "lemmatizer = WordNetLemmatizer()\n",
    "all_stopwords = stopwords.words('english')\n",
    "\n",
    "def clean(comment):\n",
    "    comment = re.sub('[^a-zA-Z]', ' ', comment)\n",
    "    comment = comment.lower()\n",
    "    comment = comment.split()\n",
    "    comment = [stemmer.stem(word) for word in comment if not word in set(all_stopwords)]\n",
    "    comment = [lemmatizer.lemmatize(word) for word in comment]\n",
    "    comment = ' '.join(comment)\n",
    "    return comment\n"
   ]
  },
  {
   "cell_type": "code",
   "execution_count": null,
   "id": "d18cb4b0",
   "metadata": {},
   "outputs": [],
   "source": [
    "df['text'].iloc[0]"
   ]
  },
  {
   "cell_type": "code",
   "execution_count": null,
   "id": "bfb4af2f",
   "metadata": {},
   "outputs": [],
   "source": [
    "clean(df['text'].iloc[0])"
   ]
  },
  {
   "cell_type": "code",
   "execution_count": null,
   "id": "2fcc04bf",
   "metadata": {},
   "outputs": [],
   "source": [
    "df['text'] = df['text'].apply(clean)"
   ]
  },
  {
   "cell_type": "markdown",
   "id": "b821c51b",
   "metadata": {},
   "source": [
    "## TF-IDF"
   ]
  },
  {
   "cell_type": "code",
   "execution_count": null,
   "id": "feca29e7",
   "metadata": {},
   "outputs": [],
   "source": [
    "vec = TfidfVectorizer()"
   ]
  },
  {
   "cell_type": "code",
   "execution_count": null,
   "id": "b4a9c968",
   "metadata": {},
   "outputs": [],
   "source": [
    "X = vec.fit_transform(df['text'])\n",
    "X"
   ]
  },
  {
   "cell_type": "markdown",
   "id": "4d63228e",
   "metadata": {},
   "source": [
    "## Fit Naive Bayes"
   ]
  },
  {
   "cell_type": "code",
   "execution_count": null,
   "id": "e92787f0",
   "metadata": {},
   "outputs": [],
   "source": [
    "model = MultinomialNB()\n",
    "model.fit(X, df['y'])"
   ]
  },
  {
   "cell_type": "markdown",
   "id": "230e278d",
   "metadata": {},
   "source": [
    "## Validate"
   ]
  },
  {
   "cell_type": "code",
   "execution_count": null,
   "id": "f9ed3aff",
   "metadata": {},
   "outputs": [],
   "source": [
    "# Le fichier validation est chargé dans le bucket dans le même dossier que train.csv !   ;-)\n",
    "df_val = pd.read_csv(\"gs://the-clean-project/validation_data.csv\")\n",
    "\n",
    "X_less_toxic = vec.transform(df_val['less_toxic'].apply(clean))\n",
    "X_more_toxic = vec.transform(df_val['more_toxic'].apply(clean))\n",
    "\n",
    "p1 = model.predict_proba(X_less_toxic)\n",
    "p2 = model.predict_proba(X_more_toxic)\n",
    "\n",
    "# Validation Accuracy\n",
    "(p1[:, 1] < p2[:, 1]).mean()"
   ]
  },
  {
   "cell_type": "markdown",
   "id": "0a0f0a70",
   "metadata": {},
   "source": [
    "## Application on our comments"
   ]
  },
  {
   "cell_type": "markdown",
   "id": "cc6fbf16",
   "metadata": {},
   "source": [
    "### Importer les colonnes qui nous intéressent, à savoir ici : id_comment, content"
   ]
  },
  {
   "cell_type": "code",
   "execution_count": null,
   "id": "b00ec1d5",
   "metadata": {},
   "outputs": [],
   "source": [
    "# Connect to our database\n",
    "cnx = mysql.connector.connect(user='root', password='tcp',host='34.155.60.153',database='dwh')\n",
    "\n",
    "query = \"SELECT id_comment, content FROM comment;\"\n",
    "df_comments = pd.read_sql(query, cnx)\n",
    "\n",
    "df_comments"
   ]
  },
  {
   "cell_type": "markdown",
   "id": "b8d8ddb0",
   "metadata": {},
   "source": [
    "### Faut sûrement nettoyer les contents avant d'appliquer le modèle ? (fonction clean ci-dessus)"
   ]
  },
  {
   "cell_type": "code",
   "execution_count": null,
   "id": "8ddbb696",
   "metadata": {},
   "outputs": [],
   "source": [
    "X_test = vec.transform(df_comments['content'])"
   ]
  },
  {
   "cell_type": "markdown",
   "id": "91f70593",
   "metadata": {},
   "source": [
    "### Appliquer le modèle sur nos données"
   ]
  },
  {
   "cell_type": "code",
   "execution_count": null,
   "id": "b2e481e8",
   "metadata": {},
   "outputs": [],
   "source": [
    "p3 = model.predict_proba(X_test)"
   ]
  },
  {
   "cell_type": "code",
   "execution_count": null,
   "id": "faa5a8a4",
   "metadata": {},
   "outputs": [],
   "source": [
    "df_comments['score_jigsaw'] = p3[:,1]\n",
    "\n",
    "df_comments"
   ]
  },
  {
   "cell_type": "markdown",
   "id": "1af39b10",
   "metadata": {},
   "source": [
    "## Tâche finale : enregistrer les scores ainsi calculés dans le DWH"
   ]
  },
  {
   "cell_type": "code",
   "execution_count": null,
   "id": "a25fe8e8",
   "metadata": {},
   "outputs": [],
   "source": [
    "# Utilisation du cursor\n",
    "cursor = cnx.cursor()\n",
    "\n",
    "\n",
    "query_final = "
   ]
  },
  {
   "cell_type": "code",
   "execution_count": null,
   "id": "7b167b0b",
   "metadata": {},
   "outputs": [],
   "source": []
  },
  {
   "cell_type": "code",
   "execution_count": null,
   "id": "0b865ec5",
   "metadata": {},
   "outputs": [],
   "source": []
  },
  {
   "cell_type": "code",
   "execution_count": null,
   "id": "39f72507",
   "metadata": {},
   "outputs": [],
   "source": [
    "import findspark\n",
    "findspark.init()\n",
    "import pyspark\n",
    "from pyspark.sql import SparkSession\n",
    "from pyspark.sql import Row\n",
    "\n",
    "from pyspark.ml.linalg import Vectors\n",
    "\n",
    "df['text'] = pyspark.createDataFrame([\n",
    "\n",
    "    Row(label=0.0, weight=0.1, features=Vectors.dense([0.0, 0.0])),\n",
    "\n",
    "    Row(label=0.0, weight=0.5, features=Vectors.dense([0.0, 1.0])),\n",
    "\n",
    "    Row(label=1.0, weight=1.0, features=Vectors.dense([1.0, 0.0]))])\n",
    "\n",
    "nb = NaiveBayes(smoothing=1.0, modelType=\"multinomial\", weightCol=\"weight\")\n",
    "\n",
    "\n",
    "\n",
    "\n",
    "\n",
    "\n",
    "\n"
   ]
  }
 ],
 "metadata": {
  "kernelspec": {
   "display_name": "Python 3",
   "language": "python",
   "name": "python3"
  },
  "language_info": {
   "codemirror_mode": {
    "name": "ipython",
    "version": 3
   },
   "file_extension": ".py",
   "mimetype": "text/x-python",
   "name": "python",
   "nbconvert_exporter": "python",
   "pygments_lexer": "ipython3",
   "version": "3.8.13"
  }
 },
 "nbformat": 4,
 "nbformat_minor": 5
}
