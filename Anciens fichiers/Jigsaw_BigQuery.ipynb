{
 "cells": [
  {
   "cell_type": "code",
   "execution_count": 2,
   "id": "d9151c4e-57f7-4ebe-9228-451837fcea0e",
   "metadata": {},
   "outputs": [],
   "source": [
    "import pandas as pd\n",
    "import numpy as np\n",
    "#import mysql.connector\n",
    "from sklearn.naive_bayes import MultinomialNB\n",
    "from sklearn.feature_extraction.text import TfidfVectorizer\n",
    "#python -m nltk.downloader\n",
    "from google.cloud import bigquery"
   ]
  },
  {
   "cell_type": "code",
   "execution_count": 2,
   "id": "5c2fd954-a0f2-4702-b534-49a28b7bfee9",
   "metadata": {},
   "outputs": [],
   "source": [
    "client = bigquery.Client()"
   ]
  },
  {
   "cell_type": "code",
   "execution_count": 3,
   "id": "e4886082-3342-4fde-a14c-27b545bf7028",
   "metadata": {},
   "outputs": [],
   "source": [
    "# sql = \"\"\"\n",
    "# SELECT *  FROM `mimetic-coral-355913.dwh.comment`\n",
    "# \"\"\"\n",
    "# df = client.query(sql).to_dataframe()\n",
    "# df.head()"
   ]
  },
  {
   "cell_type": "code",
   "execution_count": 4,
   "id": "ebd64b46-57b8-41a0-ae41-9c812c9b6c5b",
   "metadata": {},
   "outputs": [
    {
     "data": {
      "text/html": [
       "<div>\n",
       "<style scoped>\n",
       "    .dataframe tbody tr th:only-of-type {\n",
       "        vertical-align: middle;\n",
       "    }\n",
       "\n",
       "    .dataframe tbody tr th {\n",
       "        vertical-align: top;\n",
       "    }\n",
       "\n",
       "    .dataframe thead th {\n",
       "        text-align: right;\n",
       "    }\n",
       "</style>\n",
       "<table border=\"1\" class=\"dataframe\">\n",
       "  <thead>\n",
       "    <tr style=\"text-align: right;\">\n",
       "      <th></th>\n",
       "      <th>id</th>\n",
       "      <th>comment_text</th>\n",
       "      <th>toxic</th>\n",
       "      <th>severe_toxic</th>\n",
       "      <th>obscene</th>\n",
       "      <th>threat</th>\n",
       "      <th>insult</th>\n",
       "      <th>identity_hate</th>\n",
       "    </tr>\n",
       "  </thead>\n",
       "  <tbody>\n",
       "    <tr>\n",
       "      <th>0</th>\n",
       "      <td>0000997932d777bf</td>\n",
       "      <td>Explanation\\nWhy the edits made under my usern...</td>\n",
       "      <td>0</td>\n",
       "      <td>0</td>\n",
       "      <td>0</td>\n",
       "      <td>0</td>\n",
       "      <td>0</td>\n",
       "      <td>0</td>\n",
       "    </tr>\n",
       "    <tr>\n",
       "      <th>1</th>\n",
       "      <td>000103f0d9cfb60f</td>\n",
       "      <td>D'aww! He matches this background colour I'm s...</td>\n",
       "      <td>0</td>\n",
       "      <td>0</td>\n",
       "      <td>0</td>\n",
       "      <td>0</td>\n",
       "      <td>0</td>\n",
       "      <td>0</td>\n",
       "    </tr>\n",
       "    <tr>\n",
       "      <th>2</th>\n",
       "      <td>000113f07ec002fd</td>\n",
       "      <td>Hey man, I'm really not trying to edit war. It...</td>\n",
       "      <td>0</td>\n",
       "      <td>0</td>\n",
       "      <td>0</td>\n",
       "      <td>0</td>\n",
       "      <td>0</td>\n",
       "      <td>0</td>\n",
       "    </tr>\n",
       "    <tr>\n",
       "      <th>3</th>\n",
       "      <td>0001b41b1c6bb37e</td>\n",
       "      <td>\"\\nMore\\nI can't make any real suggestions on ...</td>\n",
       "      <td>0</td>\n",
       "      <td>0</td>\n",
       "      <td>0</td>\n",
       "      <td>0</td>\n",
       "      <td>0</td>\n",
       "      <td>0</td>\n",
       "    </tr>\n",
       "    <tr>\n",
       "      <th>4</th>\n",
       "      <td>0001d958c54c6e35</td>\n",
       "      <td>You, sir, are my hero. Any chance you remember...</td>\n",
       "      <td>0</td>\n",
       "      <td>0</td>\n",
       "      <td>0</td>\n",
       "      <td>0</td>\n",
       "      <td>0</td>\n",
       "      <td>0</td>\n",
       "    </tr>\n",
       "    <tr>\n",
       "      <th>5</th>\n",
       "      <td>00025465d4725e87</td>\n",
       "      <td>\"\\n\\nCongratulations from me as well, use the ...</td>\n",
       "      <td>0</td>\n",
       "      <td>0</td>\n",
       "      <td>0</td>\n",
       "      <td>0</td>\n",
       "      <td>0</td>\n",
       "      <td>0</td>\n",
       "    </tr>\n",
       "    <tr>\n",
       "      <th>6</th>\n",
       "      <td>0002bcb3da6cb337</td>\n",
       "      <td>COCKSUCKER BEFORE YOU PISS AROUND ON MY WORK</td>\n",
       "      <td>1</td>\n",
       "      <td>1</td>\n",
       "      <td>1</td>\n",
       "      <td>0</td>\n",
       "      <td>1</td>\n",
       "      <td>0</td>\n",
       "    </tr>\n",
       "    <tr>\n",
       "      <th>7</th>\n",
       "      <td>00031b1e95af7921</td>\n",
       "      <td>Your vandalism to the Matt Shirvington article...</td>\n",
       "      <td>0</td>\n",
       "      <td>0</td>\n",
       "      <td>0</td>\n",
       "      <td>0</td>\n",
       "      <td>0</td>\n",
       "      <td>0</td>\n",
       "    </tr>\n",
       "    <tr>\n",
       "      <th>8</th>\n",
       "      <td>00037261f536c51d</td>\n",
       "      <td>Sorry if the word 'nonsense' was offensive to ...</td>\n",
       "      <td>0</td>\n",
       "      <td>0</td>\n",
       "      <td>0</td>\n",
       "      <td>0</td>\n",
       "      <td>0</td>\n",
       "      <td>0</td>\n",
       "    </tr>\n",
       "    <tr>\n",
       "      <th>9</th>\n",
       "      <td>00040093b2687caa</td>\n",
       "      <td>alignment on this subject and which are contra...</td>\n",
       "      <td>0</td>\n",
       "      <td>0</td>\n",
       "      <td>0</td>\n",
       "      <td>0</td>\n",
       "      <td>0</td>\n",
       "      <td>0</td>\n",
       "    </tr>\n",
       "    <tr>\n",
       "      <th>10</th>\n",
       "      <td>0005300084f90edc</td>\n",
       "      <td>\"\\nFair use rationale for Image:Wonju.jpg\\n\\nT...</td>\n",
       "      <td>0</td>\n",
       "      <td>0</td>\n",
       "      <td>0</td>\n",
       "      <td>0</td>\n",
       "      <td>0</td>\n",
       "      <td>0</td>\n",
       "    </tr>\n",
       "    <tr>\n",
       "      <th>11</th>\n",
       "      <td>00054a5e18b50dd4</td>\n",
       "      <td>bbq \\n\\nbe a man and lets discuss it-maybe ove...</td>\n",
       "      <td>0</td>\n",
       "      <td>0</td>\n",
       "      <td>0</td>\n",
       "      <td>0</td>\n",
       "      <td>0</td>\n",
       "      <td>0</td>\n",
       "    </tr>\n",
       "    <tr>\n",
       "      <th>12</th>\n",
       "      <td>0005c987bdfc9d4b</td>\n",
       "      <td>Hey... what is it..\\n@ | talk .\\nWhat is it......</td>\n",
       "      <td>1</td>\n",
       "      <td>0</td>\n",
       "      <td>0</td>\n",
       "      <td>0</td>\n",
       "      <td>0</td>\n",
       "      <td>0</td>\n",
       "    </tr>\n",
       "    <tr>\n",
       "      <th>13</th>\n",
       "      <td>0006f16e4e9f292e</td>\n",
       "      <td>Before you start throwing accusations and warn...</td>\n",
       "      <td>0</td>\n",
       "      <td>0</td>\n",
       "      <td>0</td>\n",
       "      <td>0</td>\n",
       "      <td>0</td>\n",
       "      <td>0</td>\n",
       "    </tr>\n",
       "    <tr>\n",
       "      <th>14</th>\n",
       "      <td>00070ef96486d6f9</td>\n",
       "      <td>Oh, and the girl above started her arguments w...</td>\n",
       "      <td>0</td>\n",
       "      <td>0</td>\n",
       "      <td>0</td>\n",
       "      <td>0</td>\n",
       "      <td>0</td>\n",
       "      <td>0</td>\n",
       "    </tr>\n",
       "    <tr>\n",
       "      <th>15</th>\n",
       "      <td>00078f8ce7eb276d</td>\n",
       "      <td>\"\\n\\nJuelz Santanas Age\\n\\nIn 2002, Juelz Sant...</td>\n",
       "      <td>0</td>\n",
       "      <td>0</td>\n",
       "      <td>0</td>\n",
       "      <td>0</td>\n",
       "      <td>0</td>\n",
       "      <td>0</td>\n",
       "    </tr>\n",
       "    <tr>\n",
       "      <th>16</th>\n",
       "      <td>0007e25b2121310b</td>\n",
       "      <td>Bye! \\n\\nDon't look, come or think of comming ...</td>\n",
       "      <td>1</td>\n",
       "      <td>0</td>\n",
       "      <td>0</td>\n",
       "      <td>0</td>\n",
       "      <td>0</td>\n",
       "      <td>0</td>\n",
       "    </tr>\n",
       "    <tr>\n",
       "      <th>17</th>\n",
       "      <td>000897889268bc93</td>\n",
       "      <td>REDIRECT Talk:Voydan Pop Georgiev- Chernodrinski</td>\n",
       "      <td>0</td>\n",
       "      <td>0</td>\n",
       "      <td>0</td>\n",
       "      <td>0</td>\n",
       "      <td>0</td>\n",
       "      <td>0</td>\n",
       "    </tr>\n",
       "    <tr>\n",
       "      <th>18</th>\n",
       "      <td>0009801bd85e5806</td>\n",
       "      <td>The Mitsurugi point made no sense - why not ar...</td>\n",
       "      <td>0</td>\n",
       "      <td>0</td>\n",
       "      <td>0</td>\n",
       "      <td>0</td>\n",
       "      <td>0</td>\n",
       "      <td>0</td>\n",
       "    </tr>\n",
       "    <tr>\n",
       "      <th>19</th>\n",
       "      <td>0009eaea3325de8c</td>\n",
       "      <td>Don't mean to bother you \\n\\nI see that you're...</td>\n",
       "      <td>0</td>\n",
       "      <td>0</td>\n",
       "      <td>0</td>\n",
       "      <td>0</td>\n",
       "      <td>0</td>\n",
       "      <td>0</td>\n",
       "    </tr>\n",
       "  </tbody>\n",
       "</table>\n",
       "</div>"
      ],
      "text/plain": [
       "                  id                                       comment_text  \\\n",
       "0   0000997932d777bf  Explanation\\nWhy the edits made under my usern...   \n",
       "1   000103f0d9cfb60f  D'aww! He matches this background colour I'm s...   \n",
       "2   000113f07ec002fd  Hey man, I'm really not trying to edit war. It...   \n",
       "3   0001b41b1c6bb37e  \"\\nMore\\nI can't make any real suggestions on ...   \n",
       "4   0001d958c54c6e35  You, sir, are my hero. Any chance you remember...   \n",
       "5   00025465d4725e87  \"\\n\\nCongratulations from me as well, use the ...   \n",
       "6   0002bcb3da6cb337       COCKSUCKER BEFORE YOU PISS AROUND ON MY WORK   \n",
       "7   00031b1e95af7921  Your vandalism to the Matt Shirvington article...   \n",
       "8   00037261f536c51d  Sorry if the word 'nonsense' was offensive to ...   \n",
       "9   00040093b2687caa  alignment on this subject and which are contra...   \n",
       "10  0005300084f90edc  \"\\nFair use rationale for Image:Wonju.jpg\\n\\nT...   \n",
       "11  00054a5e18b50dd4  bbq \\n\\nbe a man and lets discuss it-maybe ove...   \n",
       "12  0005c987bdfc9d4b  Hey... what is it..\\n@ | talk .\\nWhat is it......   \n",
       "13  0006f16e4e9f292e  Before you start throwing accusations and warn...   \n",
       "14  00070ef96486d6f9  Oh, and the girl above started her arguments w...   \n",
       "15  00078f8ce7eb276d  \"\\n\\nJuelz Santanas Age\\n\\nIn 2002, Juelz Sant...   \n",
       "16  0007e25b2121310b  Bye! \\n\\nDon't look, come or think of comming ...   \n",
       "17  000897889268bc93   REDIRECT Talk:Voydan Pop Georgiev- Chernodrinski   \n",
       "18  0009801bd85e5806  The Mitsurugi point made no sense - why not ar...   \n",
       "19  0009eaea3325de8c  Don't mean to bother you \\n\\nI see that you're...   \n",
       "\n",
       "    toxic  severe_toxic  obscene  threat  insult  identity_hate  \n",
       "0       0             0        0       0       0              0  \n",
       "1       0             0        0       0       0              0  \n",
       "2       0             0        0       0       0              0  \n",
       "3       0             0        0       0       0              0  \n",
       "4       0             0        0       0       0              0  \n",
       "5       0             0        0       0       0              0  \n",
       "6       1             1        1       0       1              0  \n",
       "7       0             0        0       0       0              0  \n",
       "8       0             0        0       0       0              0  \n",
       "9       0             0        0       0       0              0  \n",
       "10      0             0        0       0       0              0  \n",
       "11      0             0        0       0       0              0  \n",
       "12      1             0        0       0       0              0  \n",
       "13      0             0        0       0       0              0  \n",
       "14      0             0        0       0       0              0  \n",
       "15      0             0        0       0       0              0  \n",
       "16      1             0        0       0       0              0  \n",
       "17      0             0        0       0       0              0  \n",
       "18      0             0        0       0       0              0  \n",
       "19      0             0        0       0       0              0  "
      ]
     },
     "execution_count": 4,
     "metadata": {},
     "output_type": "execute_result"
    }
   ],
   "source": [
    "df = pd.read_csv(\"gs://the-clean-project/train.csv\")\n",
    "df.head(20)"
   ]
  },
  {
   "cell_type": "code",
   "execution_count": 5,
   "id": "7dceab4f-2fa3-489d-813f-67c4a44a99f1",
   "metadata": {},
   "outputs": [
    {
     "data": {
      "text/html": [
       "<div>\n",
       "<style scoped>\n",
       "    .dataframe tbody tr th:only-of-type {\n",
       "        vertical-align: middle;\n",
       "    }\n",
       "\n",
       "    .dataframe tbody tr th {\n",
       "        vertical-align: top;\n",
       "    }\n",
       "\n",
       "    .dataframe thead th {\n",
       "        text-align: right;\n",
       "    }\n",
       "</style>\n",
       "<table border=\"1\" class=\"dataframe\">\n",
       "  <thead>\n",
       "    <tr style=\"text-align: right;\">\n",
       "      <th></th>\n",
       "      <th>text</th>\n",
       "      <th>y</th>\n",
       "    </tr>\n",
       "  </thead>\n",
       "  <tbody>\n",
       "    <tr>\n",
       "      <th>38415</th>\n",
       "      <td>, GAY! Ha \\n\\nI thought the same thing, He mig...</td>\n",
       "      <td>1</td>\n",
       "    </tr>\n",
       "    <tr>\n",
       "      <th>69637</th>\n",
       "      <td>Support If only the intro of the article/list ...</td>\n",
       "      <td>0</td>\n",
       "    </tr>\n",
       "    <tr>\n",
       "      <th>43080</th>\n",
       "      <td>You don't want the truth?? She IS and WAS a tr...</td>\n",
       "      <td>1</td>\n",
       "    </tr>\n",
       "    <tr>\n",
       "      <th>85870</th>\n",
       "      <td>Looking for Alibrandi \\n\\nDid you edit Looking...</td>\n",
       "      <td>0</td>\n",
       "    </tr>\n",
       "    <tr>\n",
       "      <th>46010</th>\n",
       "      <td>Deletion!?\\nThis is pretty ridiculous. Dude, y...</td>\n",
       "      <td>0</td>\n",
       "    </tr>\n",
       "  </tbody>\n",
       "</table>\n",
       "</div>"
      ],
      "text/plain": [
       "                                                    text  y\n",
       "38415  , GAY! Ha \\n\\nI thought the same thing, He mig...  1\n",
       "69637  Support If only the intro of the article/list ...  0\n",
       "43080  You don't want the truth?? She IS and WAS a tr...  1\n",
       "85870  Looking for Alibrandi \\n\\nDid you edit Looking...  0\n",
       "46010  Deletion!?\\nThis is pretty ridiculous. Dude, y...  0"
      ]
     },
     "execution_count": 5,
     "metadata": {},
     "output_type": "execute_result"
    }
   ],
   "source": [
    "df['y'] = (df[['toxic', 'severe_toxic', 'obscene', 'threat', 'insult', 'identity_hate']].sum(axis=1) > 0 ).astype(int)\n",
    "df = df[['comment_text', 'y']].rename(columns={'comment_text': 'text'})\n",
    "df.sample(5)\n",
    "#juste ça à sauvergarder et mettre dans une table"
   ]
  },
  {
   "cell_type": "code",
   "execution_count": 6,
   "id": "2a857733-47bf-45f2-9c94-e663c13dbac3",
   "metadata": {},
   "outputs": [
    {
     "name": "stderr",
     "output_type": "stream",
     "text": [
      "[nltk_data] Downloading package stopwords to /root/nltk_data...\n",
      "[nltk_data]   Package stopwords is already up-to-date!\n",
      "[nltk_data] Downloading package wordnet to /root/nltk_data...\n",
      "[nltk_data]   Package wordnet is already up-to-date!\n",
      "[nltk_data] Downloading package omw-1.4 to /root/nltk_data...\n",
      "[nltk_data]   Package omw-1.4 is already up-to-date!\n"
     ]
    }
   ],
   "source": [
    "df['y'].value_counts(normalize=True)\n",
    "min_len = (df['y'] == 1).sum()\n",
    "df_y0_undersample = df[df['y'] == 0].sample(n=min_len, random_state=201)\n",
    "df = pd.concat([df[df['y'] == 1], df_y0_undersample])\n",
    "df['y'].value_counts()\n",
    "\n",
    "from nltk.stem import SnowballStemmer, WordNetLemmatizer\n",
    "import re\n",
    "from nltk.corpus import stopwords\n",
    "import nltk\n",
    "nltk.download('stopwords')\n",
    "nltk.download('wordnet')\n",
    "nltk.download('omw-1.4')\n",
    "\n",
    "stemmer = SnowballStemmer('english')\n",
    "lemmatizer = WordNetLemmatizer()\n",
    "all_stopwords = stopwords.words('english')\n",
    "\n",
    "def clean(comment):\n",
    "    comment = re.sub('[^a-zA-Z]', ' ', comment)\n",
    "    comment = comment.lower()\n",
    "    comment = comment.split()\n",
    "    comment = [stemmer.stem(word) for word in comment if not word in set(all_stopwords)]\n",
    "    comment = [lemmatizer.lemmatize(word) for word in comment]\n",
    "    comment = ' '.join(comment)\n",
    "    return comment"
   ]
  },
  {
   "cell_type": "code",
   "execution_count": 7,
   "id": "9a3a626e-c607-4cf8-9b85-697267505604",
   "metadata": {},
   "outputs": [
    {
     "data": {
      "text/plain": [
       "'COCKSUCKER BEFORE YOU PISS AROUND ON MY WORK'"
      ]
     },
     "execution_count": 7,
     "metadata": {},
     "output_type": "execute_result"
    }
   ],
   "source": [
    "df['text'].iloc[0]"
   ]
  },
  {
   "cell_type": "code",
   "execution_count": 8,
   "id": "a5c358fd-34f5-40b6-a2f8-4607f0fdf3a5",
   "metadata": {},
   "outputs": [
    {
     "data": {
      "text/plain": [
       "'cocksuck piss around work'"
      ]
     },
     "execution_count": 8,
     "metadata": {},
     "output_type": "execute_result"
    }
   ],
   "source": [
    "clean(df['text'].iloc[0])"
   ]
  },
  {
   "cell_type": "code",
   "execution_count": 9,
   "id": "29b1abb5-5269-401b-aa54-da0ea8bbb7b6",
   "metadata": {},
   "outputs": [],
   "source": [
    "df['text'] = df['text'].apply(clean)"
   ]
  },
  {
   "cell_type": "markdown",
   "id": "2c4ea2c4-38ce-496e-be46-a710569623a4",
   "metadata": {},
   "source": [
    "## TF-IDF"
   ]
  },
  {
   "cell_type": "code",
   "execution_count": 10,
   "id": "8c1e8e28-9999-473d-9c15-0523bde98571",
   "metadata": {},
   "outputs": [],
   "source": [
    "vec = TfidfVectorizer()"
   ]
  },
  {
   "cell_type": "code",
   "execution_count": 11,
   "id": "e3eb681a-b109-4cc8-a164-73cee5c608aa",
   "metadata": {},
   "outputs": [
    {
     "data": {
      "text/plain": [
       "<32450x45777 sparse matrix of type '<class 'numpy.float64'>'\n",
       "\twith 728904 stored elements in Compressed Sparse Row format>"
      ]
     },
     "execution_count": 11,
     "metadata": {},
     "output_type": "execute_result"
    }
   ],
   "source": [
    "X = vec.fit_transform(df['text'])\n",
    "X"
   ]
  },
  {
   "cell_type": "markdown",
   "id": "d4ec8058-5fbb-4ecd-82a9-c5814554ad30",
   "metadata": {},
   "source": [
    "## Fit Naive Bayes"
   ]
  },
  {
   "cell_type": "code",
   "execution_count": 12,
   "id": "2b8d0e10-de36-440a-9185-b0891c122654",
   "metadata": {},
   "outputs": [
    {
     "data": {
      "text/plain": [
       "MultinomialNB()"
      ]
     },
     "execution_count": 12,
     "metadata": {},
     "output_type": "execute_result"
    }
   ],
   "source": [
    "model = MultinomialNB()\n",
    "model.fit(X, df['y'])"
   ]
  },
  {
   "cell_type": "markdown",
   "id": "e87e74e2-2c90-4af7-8144-c39c0dac8f82",
   "metadata": {},
   "source": [
    "## Validate"
   ]
  },
  {
   "cell_type": "code",
   "execution_count": 13,
   "id": "9e6f8bdc-4bf9-4adc-9436-88ca87cea49d",
   "metadata": {},
   "outputs": [
    {
     "name": "stdout",
     "output_type": "stream",
     "text": [
      "  (0, 44677)\t0.47325959475777485\n",
      "  (0, 44630)\t0.8492847949187935\n",
      "  (0, 38435)\t0.19945406729290457\n",
      "  (0, 2353)\t0.12230604289963462\n",
      "  (1, 45217)\t0.1732972786668851\n",
      "  (1, 42408)\t0.2038543852331415\n",
      "  (1, 40970)\t0.2603617671633731\n",
      "  (1, 39991)\t0.138357848726357\n",
      "  (1, 37107)\t0.14945796764236977\n",
      "  (1, 34913)\t0.12631417440535433\n",
      "  (1, 33656)\t0.2112521379260806\n",
      "  (1, 32775)\t0.2412313176583086\n",
      "  (1, 29839)\t0.12049540889814096\n",
      "  (1, 28474)\t0.11188204851365635\n",
      "  (1, 28084)\t0.1973077015249387\n",
      "  (1, 24330)\t0.5055414713954454\n",
      "  (1, 19843)\t0.3376846138406831\n",
      "  (1, 17515)\t0.21393466612428982\n",
      "  (1, 14821)\t0.3318844135768454\n",
      "  (1, 14240)\t0.14515846998219514\n",
      "  (1, 13791)\t0.227342985125694\n",
      "  (1, 10639)\t0.19006858443272837\n",
      "  (2, 45490)\t0.4427090058750191\n",
      "  (2, 44724)\t0.24080110831752685\n",
      "  (2, 43825)\t0.35152511917431084\n",
      "  :\t:\n",
      "  (30105, 358)\t0.3466708069922759\n",
      "  (30106, 44770)\t0.39287644977561187\n",
      "  (30106, 42573)\t0.26380622068501286\n",
      "  (30106, 39170)\t0.1962642106396804\n",
      "  (30106, 36363)\t0.32924660003261474\n",
      "  (30106, 35337)\t0.22478572331604446\n",
      "  (30106, 29150)\t0.18442079411655346\n",
      "  (30106, 25410)\t0.3368743344093728\n",
      "  (30106, 23837)\t0.27874506984034664\n",
      "  (30106, 13268)\t0.32150798856038476\n",
      "  (30106, 11922)\t0.19838744293162713\n",
      "  (30106, 458)\t0.3008371895783879\n",
      "  (30106, 358)\t0.3466708069922759\n",
      "  (30107, 44770)\t0.39287644977561187\n",
      "  (30107, 42573)\t0.26380622068501286\n",
      "  (30107, 39170)\t0.1962642106396804\n",
      "  (30107, 36363)\t0.32924660003261474\n",
      "  (30107, 35337)\t0.22478572331604446\n",
      "  (30107, 29150)\t0.18442079411655346\n",
      "  (30107, 25410)\t0.3368743344093728\n",
      "  (30107, 23837)\t0.27874506984034664\n",
      "  (30107, 13268)\t0.32150798856038476\n",
      "  (30107, 11922)\t0.19838744293162713\n",
      "  (30107, 458)\t0.3008371895783879\n",
      "  (30107, 358)\t0.3466708069922759\n"
     ]
    },
    {
     "data": {
      "text/plain": [
       "0.6675634382888269"
      ]
     },
     "execution_count": 13,
     "metadata": {},
     "output_type": "execute_result"
    }
   ],
   "source": [
    "# Le fichier validation est chargé dans le bucket dans le même dossier que train.csv !   ;-)\n",
    "df_val = pd.read_csv(\"gs://the-clean-project/validation_data.csv\")\n",
    "\n",
    "X_less_toxic = vec.transform(df_val['less_toxic'].apply(clean))\n",
    "X_more_toxic = vec.transform(df_val['more_toxic'].apply(clean))\n",
    "\n",
    "print(X_less_toxic)\n",
    "p1 = model.predict_proba(X_less_toxic)\n",
    "p2 = model.predict_proba(X_more_toxic)\n",
    "\n",
    "# Validation Accuracy\n",
    "(p1[:, 1] < p2[:, 1]).mean()"
   ]
  },
  {
   "cell_type": "markdown",
   "id": "ab1786a9-b372-4ed4-bd97-9d4a96b0d8d0",
   "metadata": {},
   "source": [
    "## Application on our comments"
   ]
  },
  {
   "cell_type": "markdown",
   "id": "0005ef9e-5a19-445f-86cc-999e43dd53df",
   "metadata": {},
   "source": [
    "### Importer les colonnes qui nous intéressent, à savoir ici : id_comment, content"
   ]
  },
  {
   "cell_type": "code",
   "execution_count": 14,
   "id": "cd332ed6-b4dc-48d1-a518-fc5c80ab7c66",
   "metadata": {},
   "outputs": [
    {
     "ename": "NameError",
     "evalue": "name 'client' is not defined",
     "output_type": "error",
     "traceback": [
      "\u001b[0;31m---------------------------------------------------------------------------\u001b[0m",
      "\u001b[0;31mNameError\u001b[0m                                 Traceback (most recent call last)",
      "Input \u001b[0;32mIn [14]\u001b[0m, in \u001b[0;36m<cell line: 4>\u001b[0;34m()\u001b[0m\n\u001b[1;32m      1\u001b[0m sql_jig \u001b[38;5;241m=\u001b[39m \u001b[38;5;124m\"\"\"\u001b[39m\n\u001b[1;32m      2\u001b[0m \u001b[38;5;124mSELECT id_comment, content  FROM `mimetic-coral-355913.dwh.comment`\u001b[39m\n\u001b[1;32m      3\u001b[0m \u001b[38;5;124m\"\"\"\u001b[39m\n\u001b[0;32m----> 4\u001b[0m df_jig \u001b[38;5;241m=\u001b[39m \u001b[43mclient\u001b[49m\u001b[38;5;241m.\u001b[39mquery(sql_jig)\u001b[38;5;241m.\u001b[39mto_dataframe()\n\u001b[1;32m      5\u001b[0m df_jig\u001b[38;5;241m.\u001b[39mhead()\n",
      "\u001b[0;31mNameError\u001b[0m: name 'client' is not defined"
     ]
    }
   ],
   "source": [
    "sql_jig = \"\"\"\n",
    "SELECT id_comment, content  FROM `mimetic-coral-355913.dwh.comment`\n",
    "\"\"\"\n",
    "df_jig = client.query(sql_jig).to_dataframe()\n",
    "df_jig.head()"
   ]
  },
  {
   "cell_type": "markdown",
   "id": "82efe918-085b-41a5-bfe1-b5b4c0ac98cd",
   "metadata": {},
   "source": [
    "### Faut sûrement nettoyer les contents avant d'appliquer le modèle ? (fonction clean ci-dessus)"
   ]
  },
  {
   "cell_type": "code",
   "execution_count": null,
   "id": "af9cb294-2c42-41ef-9744-cce1c8307d14",
   "metadata": {},
   "outputs": [],
   "source": [
    "X_test = vec.transform(df_jig['content'])"
   ]
  },
  {
   "cell_type": "markdown",
   "id": "a5acb1e2-9023-4f55-919e-41a4b5ac2689",
   "metadata": {},
   "source": [
    "### Appliquer le modèle sur nos données"
   ]
  },
  {
   "cell_type": "code",
   "execution_count": null,
   "id": "19eef564-a328-42e6-be34-f55ada37d084",
   "metadata": {},
   "outputs": [],
   "source": [
    "p3 = model.predict_proba(X_test)"
   ]
  },
  {
   "cell_type": "code",
   "execution_count": null,
   "id": "1cf9eec4-99c6-4c20-b960-d4ebd006d3f1",
   "metadata": {},
   "outputs": [],
   "source": [
    "df_jig['score_jigsaw'] = p3[:,1]\n",
    "del df_jig['content']\n",
    "df_jig\n",
    "# len(df_jig)"
   ]
  },
  {
   "cell_type": "code",
   "execution_count": null,
   "id": "343bbcd3-84e3-4d88-91ce-f33cbe3fc5b9",
   "metadata": {},
   "outputs": [],
   "source": [
    "sql_j = \"\"\"\n",
    "SELECT id_comment, type_content  FROM `mimetic-coral-355913.dwh.comment`\n",
    "\"\"\"\n",
    "df_j = client.query(sql_j).to_dataframe()\n",
    "df_j.head()"
   ]
  },
  {
   "cell_type": "code",
   "execution_count": null,
   "id": "cbf7674e-d15e-4fb2-9855-b80e8521a163",
   "metadata": {},
   "outputs": [],
   "source": [
    "len(df_j)"
   ]
  },
  {
   "cell_type": "code",
   "execution_count": null,
   "id": "961b6f65-1f07-4bfa-8c9d-070cb764b3f6",
   "metadata": {},
   "outputs": [],
   "source": [
    "df_jig=df_jig.merge(df_j, left_on='id_comment', right_on='id_comment')\n",
    "df_jig\n"
   ]
  },
  {
   "cell_type": "markdown",
   "id": "45d5b3b6-d1f4-47e5-9b89-72ef69257677",
   "metadata": {},
   "source": [
    "## Tâche finale : enregistrer les scores ainsi calculés dans le DWH"
   ]
  },
  {
   "cell_type": "code",
   "execution_count": null,
   "id": "44db60db-4ddd-4403-b748-81224164d750",
   "metadata": {},
   "outputs": [],
   "source": [
    "# dataset_id = 'dwh'\n",
    "# # For this sample, the table must already exist and have a defined schema\n",
    "# table_id =\"score_jig\"\n",
    "# table_ref = client.dataset(dataset_id).table(table_id)\n",
    "# table = client.get_table(table_ref)\n",
    "# client.insert_rows(table, df_jig.values.tolist())\n"
   ]
  },
  {
   "cell_type": "code",
   "execution_count": null,
   "id": "31001732-b028-4ca2-8c58-aac93695f174",
   "metadata": {},
   "outputs": [],
   "source": [
    "#from google.cloud import bigquery\n",
    "\n",
    "#client = bigquery.Client()\n",
    "\n",
    "#dml_statement = (\"UPDATE `dwh.test` SET colonne2 = 'A' WHERE colonne1 = 2;\")\n",
    "#print(dml_statement)\n",
    "#query_job = client.query(dml_statement)  # API request\n",
    "#query_job.result()  # Waits for statement to finish"
   ]
  },
  {
   "cell_type": "code",
   "execution_count": null,
   "id": "f4f66eb9-40e9-410b-b2fe-250f617b00ca",
   "metadata": {},
   "outputs": [],
   "source": [
    "#pip install pandas-gbq"
   ]
  },
  {
   "cell_type": "code",
   "execution_count": null,
   "id": "7cd5b48b-fb97-4efe-8b0c-18f3c950fa87",
   "metadata": {},
   "outputs": [],
   "source": [
    "import pandas_gbq"
   ]
  },
  {
   "cell_type": "code",
   "execution_count": null,
   "id": "9beeda3f-7d2d-4588-9246-c74ca29ca5e8",
   "metadata": {},
   "outputs": [],
   "source": [
    "pandas_gbq.to_gbq(df_jig, \"dwh.score_jig\", project_id=\"mimetic-coral-355913\", if_exists=\"replace\")"
   ]
  },
  {
   "cell_type": "code",
   "execution_count": null,
   "id": "262606c1-09b6-4411-a12e-00047c0313ab",
   "metadata": {},
   "outputs": [],
   "source": [
    "# def bq_load(key, value):\n",
    "  \n",
    "#   project_name = 'YOUR PROJECT NAME'\n",
    "#   dataset_name = 'YOUR DATASET NAME'\n",
    "#   table_name = key\n",
    "  \n",
    "#   value.to_gbq(destination_table='{}.{}'.format(dataset_name, table_name), project_id=project_name, if_exists='replace')\n",
    "# bq_load(\"mimetic-coral-355913.dwh.score_jig\",df_jig)"
   ]
  },
  {
   "cell_type": "code",
   "execution_count": null,
   "id": "65f782ed-6db1-4a0e-9ded-772b57bc46f5",
   "metadata": {},
   "outputs": [],
   "source": [
    "# from google.cloud import bigqueryclient = bigquery.Client()\n",
    "\n",
    "# assert table.encryption_configuration.kms_key_name == original_kms_key_name\n",
    "\n",
    "# # Set a new encryption key to use for the destination.\n",
    "# # TODO: Replace this key with a key you have created in KMS.\n",
    "# updated_kms_key_name = (\n",
    "#     \"\"\n",
    "# )\n",
    "# table.encryption_configuration = bigquery.EncryptionConfiguration(\n",
    "#     kms_key_name=updated_kms_key_name\n",
    "# )\n",
    "\n",
    "# table = client.update_table(table, [\"encryption_configuration\"])  # API request\n",
    "\n",
    "# assert table.encryption_configuration.kms_key_name == updated_kms_key_name\n",
    "# assert original_kms_key_name != updated_kms_key_name"
   ]
  },
  {
   "cell_type": "code",
   "execution_count": null,
   "id": "8e71de86-f373-412c-ad4e-27a7cb5e9e95",
   "metadata": {},
   "outputs": [],
   "source": [
    "# sql = \"\"\"\n",
    "# SELECT *  FROM `mimetic-coral-355913.dwh.comment`\n",
    "# \"\"\"\n",
    "# df15 = client.query(sql).to_dataframe()\n",
    "# df15.head()"
   ]
  },
  {
   "cell_type": "code",
   "execution_count": null,
   "id": "ebd3cc95-32a8-4ea8-b461-d2d949164e60",
   "metadata": {},
   "outputs": [],
   "source": []
  }
 ],
 "metadata": {
  "kernelspec": {
   "display_name": "Python 3",
   "language": "python",
   "name": "python3"
  },
  "language_info": {
   "codemirror_mode": {
    "name": "ipython",
    "version": 3
   },
   "file_extension": ".py",
   "mimetype": "text/x-python",
   "name": "python",
   "nbconvert_exporter": "python",
   "pygments_lexer": "ipython3",
   "version": "3.8.13"
  }
 },
 "nbformat": 4,
 "nbformat_minor": 5
}
